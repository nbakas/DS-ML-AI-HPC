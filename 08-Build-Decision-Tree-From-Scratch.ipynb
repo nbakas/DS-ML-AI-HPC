{
 "cells": [
  {
   "cell_type": "code",
   "execution_count": 2,
   "metadata": {},
   "outputs": [],
   "source": [
    "import numpy as np\n",
    "import matplotlib.pyplot as plt\n",
    "from sklearn.tree import DecisionTreeRegressor\n",
    "from sklearn.tree import export_text\n",
    "from sklearn.tree import plot_tree\n",
    "\n",
    "# Function to find the best split in the dataset\n",
    "def find_best_split(X):\n",
    "    # Initialize an array for storing entropy values\n",
    "    Entropy = np.zeros(X.shape)\n",
    "    # Iterate over each feature column\n",
    "    for j in range(X.shape[1]):\n",
    "        # Iterate over each data point\n",
    "        for i in range(X.shape[0]):\n",
    "            # Find values on the left side of the split\n",
    "            left_vals = X[:,j][X[:,j] <= X[i,j]]\n",
    "            # Calculate the entropy for the left side if there are values\n",
    "            if len(left_vals)>0:\n",
    "                Entropy[i,j] += np.mean((left_vals - np.mean(left_vals))**2)\n",
    "            # Find values on the right side of the split\n",
    "            right_vals = X[:,j][X[:,j] > X[i,j]]\n",
    "            # Calculate the entropy for the right side if there are values\n",
    "            if len(right_vals)>0:\n",
    "                Entropy[i,j] += np.mean((right_vals - np.mean(right_vals))**2)\n",
    "            print(f\"Entropy of feature {j} at threshold {X[i,j]}: {Entropy[i,j]}\")\n",
    "    # Find the indices of the minimum entropy value\n",
    "    i, j = np.unravel_index(np.argmin(Entropy), Entropy.shape)\n",
    "    print(f\"Best split: Feature {j} at threshold {X[i,j]}\")\n",
    "    return i, j\n",
    "\n"
   ]
  },
  {
   "cell_type": "code",
   "execution_count": 3,
   "metadata": {},
   "outputs": [
    {
     "name": "stdout",
     "output_type": "stream",
     "text": [
      "|--- feature_0 <= 5.50\n",
      "|   |--- feature_0 <= 2.50\n",
      "|   |   |--- value: [1.50]\n",
      "|   |--- feature_0 >  2.50\n",
      "|   |   |--- value: [4.00]\n",
      "|--- feature_0 >  5.50\n",
      "|   |--- feature_0 <= 7.50\n",
      "|   |   |--- value: [6.50]\n",
      "|   |--- feature_0 >  7.50\n",
      "|   |   |--- value: [9.00]\n",
      "\n"
     ]
    },
    {
     "data": {
      "image/png": "[encoded data removed]",
      "text/plain": [
       "<Figure size 640x480 with 1 Axes>"
      ]
     },
     "metadata": {},
     "output_type": "display_data"
    }
   ],
   "source": [
    "# Create the dataset\n",
    "X = np.linspace(1,10,num=10).reshape(-1,1)\n",
    "# We use the same dataset for both X and y, as an example. We expect the tree to split the data into two equal halves.\n",
    "y = X.copy()\n",
    "__DEPTH__ = 2\n",
    "\n",
    "# Decision Tree Regressor\n",
    "dtree = DecisionTreeRegressor(max_depth=__DEPTH__)\n",
    "dtree.fit(X, y)\n",
    "\n",
    "# Print out the tree structure, thresholds, and leaves\n",
    "tree_rules = export_text(dtree)\n",
    "print(tree_rules)\n",
    "\n",
    "# Plot the decision tree\n",
    "plot_tree(dtree, filled=True, node_ids=False, proportion=True, label='root') \n",
    "plt.show()\n"
   ]
  },
  {
   "cell_type": "code",
   "execution_count": 4,
   "metadata": {},
   "outputs": [
    {
     "name": "stdout",
     "output_type": "stream",
     "text": [
      "Entropy of feature 0 at threshold 1.0: 6.666666666666667\n",
      "Entropy of feature 0 at threshold 2.0: 5.5\n",
      "Entropy of feature 0 at threshold 3.0: 4.666666666666667\n",
      "Entropy of feature 0 at threshold 4.0: 4.166666666666666\n",
      "Entropy of feature 0 at threshold 5.0: 4.0\n",
      "Entropy of feature 0 at threshold 6.0: 4.166666666666666\n",
      "Entropy of feature 0 at threshold 7.0: 4.666666666666667\n",
      "Entropy of feature 0 at threshold 8.0: 5.5\n",
      "Entropy of feature 0 at threshold 9.0: 6.666666666666667\n",
      "Entropy of feature 0 at threshold 10.0: 8.25\n",
      "Best split: Feature 0 at threshold 5.0\n"
     ]
    }
   ],
   "source": [
    "\n",
    "# Initialize arrays for storing thresholds, splitters, and indices for each node in the tree\n",
    "tree_thresholds = np.zeros((__DEPTH__+1,2**__DEPTH__))\n",
    "tree_splitters = np.zeros((__DEPTH__+1,2**__DEPTH__), dtype=int)\n",
    "tree_inds = np.zeros((__DEPTH__+1,2**__DEPTH__, len(y)), dtype=int)\n",
    "\n",
    "# Set the depth and node variables\n",
    "depth = 0\n",
    "node = 0\n",
    "\n",
    "# Find the best split at the current depth and node\n",
    "i, j = find_best_split(X)\n"
   ]
  },
  {
   "cell_type": "code",
   "execution_count": 5,
   "metadata": {},
   "outputs": [
    {
     "name": "stdout",
     "output_type": "stream",
     "text": [
      "<class 'numpy.int64'> <class 'numpy.int64'>\n"
     ]
    }
   ],
   "source": [
    "print(type(i),type(j))"
   ]
  },
  {
   "cell_type": "code",
   "execution_count": 6,
   "metadata": {},
   "outputs": [
    {
     "name": "stdout",
     "output_type": "stream",
     "text": [
      "Left side\n",
      "Entropy of feature 0 at threshold 1.0: 1.25\n",
      "Entropy of feature 0 at threshold 2.0: 0.9166666666666666\n",
      "Entropy of feature 0 at threshold 3.0: 0.9166666666666666\n",
      "Entropy of feature 0 at threshold 4.0: 1.25\n",
      "Entropy of feature 0 at threshold 5.0: 2.0\n",
      "Best split: Feature 0 at threshold 2.0\n",
      "Right side\n",
      "Entropy of feature 0 at threshold 6.0: 1.25\n",
      "Entropy of feature 0 at threshold 7.0: 0.9166666666666666\n",
      "Entropy of feature 0 at threshold 8.0: 0.9166666666666666\n",
      "Entropy of feature 0 at threshold 9.0: 1.25\n",
      "Entropy of feature 0 at threshold 10.0: 2.0\n",
      "Best split: Feature 0 at threshold 7.0\n"
     ]
    }
   ],
   "source": [
    "\n",
    "# Store the node indices, threshold, and splitter\n",
    "tree_inds[depth,node,:] = 1\n",
    "tree_thresholds[depth,node] = X[i,j]\n",
    "tree_splitters[depth,node] = j\n",
    "\n",
    "# Increase the depth by 1\n",
    "depth = 1\n",
    "\n",
    "# Set the node variable to 0\n",
    "node = 0\n",
    "\n",
    "# Get the splitter from the previous depth and node\n",
    "j = tree_splitters[depth-1,node]\n",
    "\n",
    "# Split the dataset based on the threshold value from the previous depth\n",
    "inds_left = X[:,j] <= tree_thresholds[depth-1,0]\n",
    "inds_right = X[:,j] > tree_thresholds[depth-1,0]\n",
    "\n",
    "# Find the best split for the left side of the split\n",
    "print(\"Left side\")\n",
    "i, j = find_best_split(X[inds_left,:])\n",
    "# Store the threshold and node indices for the left side\n",
    "tree_thresholds[depth,0] = X[inds_left,:][i,j]\n",
    "tree_inds[depth,0,inds_left] = 1\n",
    "\n",
    "# Find the best split for the right side of the split\n",
    "print(\"Right side\")\n",
    "i, j = find_best_split(X[inds_right,:])\n",
    "# Store the threshold and node indices for the right side\n",
    "tree_thresholds[depth,1] = X[inds_right,:][i,j]"
   ]
  },
  {
   "cell_type": "code",
   "execution_count": null,
   "metadata": {},
   "outputs": [],
   "source": []
  }
 ],
 "metadata": {
  "kernelspec": {
   "display_name": "code3133",
   "language": "python",
   "name": "python3"
  },
  "language_info": {
   "codemirror_mode": {
    "name": "ipython",
    "version": 3
   },
   "file_extension": ".py",
   "mimetype": "text/x-python",
   "name": "python",
   "nbconvert_exporter": "python",
   "pygments_lexer": "ipython3",
   "version": "3.12.6"
  }
 },
 "nbformat": 4,
 "nbformat_minor": 2
}
