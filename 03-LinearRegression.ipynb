{
 "cells": [
  {
   "cell_type": "code",
   "execution_count": 109,
   "metadata": {},
   "outputs": [],
   "source": [
    "# Importing necessary libraries for plotting, numerical operations, and statistical modeling\n",
    "import matplotlib.pyplot as plt\n",
    "import numpy as np\n",
    "import statsmodels.api as sm"
   ]
  },
  {
   "cell_type": "code",
   "execution_count": null,
   "metadata": {},
   "outputs": [],
   "source": [
    "from ucimlrepo import fetch_ucirepo  # Import the fetch_ucirepo function from the ucimlrepo module\n",
    "  \n",
    "energy_efficiency = fetch_ucirepo(id=242)  # Fetch the energy efficiency dataset with id 242\n",
    "  \n",
    "X = energy_efficiency.data.features  # Extract the features from the dataset and store them in X\n",
    "y = energy_efficiency.data.targets  # Extract the targets from the dataset and store them in y\n",
    "  \n",
    "print(X.head())  # Print the first few rows of the features dataframe\n",
    "print(y.head())  # Print the first few rows of the targets dataframe"
   ]
  },
  {
   "cell_type": "code",
   "execution_count": 111,
   "metadata": {},
   "outputs": [],
   "source": [
    "X = X.values  # Convert the features dataframe to a numpy array\n",
    "Y = y.iloc[:, 0].values  # Extract the first column of the targets dataframe and convert it to a numpy array"
   ]
  },
  {
   "cell_type": "code",
   "execution_count": null,
   "metadata": {},
   "outputs": [],
   "source": [
    "from sklearn.model_selection import train_test_split\n",
    "\n",
    "# Split the data into training and testing sets\n",
    "Xtr, Xte, Ytr, Yte = train_test_split(X, Y, test_size=0.2, random_state=42)\n",
    "\n",
    "print(\"Training features shape:\", Xtr.shape)\n",
    "print(\"Testing features shape:\", Xte.shape)\n",
    "print(\"Training target shape:\", Ytr.shape)\n",
    "print(\"Testing target shape:\", Yte.shape)"
   ]
  },
  {
   "cell_type": "code",
   "execution_count": 113,
   "metadata": {},
   "outputs": [],
   "source": [
    "from sklearn.preprocessing import StandardScaler  # Import the StandardScaler class from sklearn.preprocessing\n",
    "normalizer = StandardScaler()  # Create an instance of StandardScaler\n",
    "Xtr = normalizer.fit_transform(Xtr)  # Fit the scaler to the training data and transform it\n",
    "Xte = normalizer.transform(Xte)  # Transform the testing data using the fitted scaler"
   ]
  },
  {
   "cell_type": "code",
   "execution_count": 114,
   "metadata": {},
   "outputs": [],
   "source": [
    "# Add a constant term to the features using numpy\n",
    "Xtr = np.hstack([np.ones((Xtr.shape[0], 1)), Xtr])  # Add a column of ones to the training features for the intercept term\n",
    "Xte = np.hstack([np.ones((Xte.shape[0], 1)), Xte])  # Add a column of ones to the testing features for the intercept term"
   ]
  },
  {
   "cell_type": "code",
   "execution_count": null,
   "metadata": {},
   "outputs": [],
   "source": [
    "features_names = energy_efficiency.variables[\"description\"].iloc[:8].tolist()  # Extract the first 8 descriptions for features and convert to a list\n",
    "target_name = energy_efficiency.variables[\"description\"].iloc[8]  # Extract the 9th description for the target variable\n",
    "\n",
    "print(features_names)  # Print the list of feature names\n",
    "print(target_name)  # Print the target variable name"
   ]
  },
  {
   "cell_type": "code",
   "execution_count": 116,
   "metadata": {},
   "outputs": [],
   "source": [
    "# Update feature names to include the constant term\n",
    "features_names = ['Constant'] + features_names"
   ]
  },
  {
   "cell_type": "code",
   "execution_count": null,
   "metadata": {},
   "outputs": [],
   "source": [
    "# Fit the linear regression model using statsmodels\n",
    "model = sm.OLS(Ytr, Xtr).fit()\n",
    "\n",
    "# Get the regression coefficients\n",
    "aa = model.params\n",
    "\n",
    "# Get the p-values\n",
    "p_vals = model.pvalues\n",
    "\n",
    "# Calculate R-squared\n",
    "rr = model.rsquared\n",
    "\n",
    "# Print the results\n",
    "print(\"Regression Coefficients (aa):\", aa)\n",
    "print(\"P-values (p_vals):\", p_vals)\n",
    "print(\"R-squared (rr):\", rr)"
   ]
  },
  {
   "cell_type": "code",
   "execution_count": null,
   "metadata": {},
   "outputs": [],
   "source": [
    "# Predict on training and testing data\n",
    "Ytr_pred = model.predict(Xtr)\n",
    "\n",
    "# Plot actual vs predicted for training data\n",
    "plt.figure(figsize=(4, 4))  # Create a new figure with a size of 4x4 inches\n",
    "plt.scatter(Ytr, Ytr_pred, alpha=0.7)  # Create a scatter plot of actual vs predicted values for training data with 70% opacity\n",
    "plt.plot([Ytr.min(), Ytr.max()], [Ytr.min(), Ytr.max()], 'r--')  # Plot a red dashed line representing the ideal fit (y=x)\n",
    "plt.xlabel('Actual')  # Set the x-axis label to 'Actual'\n",
    "plt.ylabel('Predicted')  # Set the y-axis label to 'Predicted'\n",
    "plt.title('Actual vs Predicted for Training Data')  # Set the plot title to 'Actual vs Predicted for Training Data'\n",
    "plt.show()  # Display the plot"
   ]
  },
  {
   "cell_type": "code",
   "execution_count": null,
   "metadata": {},
   "outputs": [],
   "source": [
    "Yte_pred = model.predict(Xte)  # Predict the target variable for the test set using the linear regression model\n",
    "\n",
    "# Plot actual vs predicted for testing data\n",
    "plt.figure(figsize=(4, 4))  # Create a new figure with a size of 4x4 inches\n",
    "plt.scatter(Yte, Yte_pred, alpha=0.7)  # Create a scatter plot of actual vs predicted values for testing data with 70% opacity\n",
    "plt.plot([Yte.min(), Yte.max()], [Yte.min(), Yte.max()], 'r--')  # Plot a red dashed line representing the ideal fit (y=x)\n",
    "plt.xlabel('Actual')  # Set the x-axis label to 'Actual'\n",
    "plt.ylabel('Predicted')  # Set the y-axis label to 'Predicted'\n",
    "plt.title('Actual vs Predicted for Testing Data')  # Set the plot title to 'Actual vs Predicted for Testing Data'\n",
    "plt.show()  # Display the plot"
   ]
  },
  {
   "cell_type": "code",
   "execution_count": null,
   "metadata": {},
   "outputs": [],
   "source": [
    "import matplotlib.pyplot as plt\n",
    "\n",
    "# Plot the regression coefficients with feature names\n",
    "plt.figure(figsize=(10, 2))  # Create a new figure with a size of 10x2 inches\n",
    "plt.bar(features_names, aa)  # Create a bar plot of regression coefficients with feature names on the x-axis\n",
    "plt.xlabel('Features')  # Set the x-axis label to 'Features'\n",
    "plt.ylabel('Regression Coefficients')  # Set the y-axis label to 'Regression Coefficients'\n",
    "plt.title('Regression Coefficients for Each Feature')  # Set the plot title to 'Regression Coefficients for Each Feature'\n",
    "plt.xticks(rotation=90)  # Rotate the x-axis labels by 90 degrees for better readability\n",
    "plt.show()  # Display the plot"
   ]
  },
  {
   "cell_type": "code",
   "execution_count": null,
   "metadata": {},
   "outputs": [],
   "source": [
    "plt.figure(figsize=(10, 2))  # Create a new figure with a size of 10x2 inches\n",
    "plt.bar(features_names, p_vals)  # Create a bar plot of p-values with feature names on the x-axis\n",
    "plt.xlabel('Features')  # Set the x-axis label to 'Features'\n",
    "plt.ylabel('P-values')  # Set the y-axis label to 'P-values'\n",
    "plt.title('P-values for Each Feature')  # Set the plot title to 'P-values for Each Feature'\n",
    "plt.xticks(rotation=90)  # Rotate the x-axis labels by 90 degrees for better readability\n",
    "plt.show()  # Display the plot"
   ]
  }
 ],
 "metadata": {
  "kernelspec": {
   "display_name": "Python 3",
   "language": "python",
   "name": "python3"
  },
  "language_info": {
   "codemirror_mode": {
    "name": "ipython",
    "version": 3
   },
   "file_extension": ".py",
   "mimetype": "text/x-python",
   "name": "python",
   "nbconvert_exporter": "python",
   "pygments_lexer": "ipython3",
   "version": "3.12.6"
  }
 },
 "nbformat": 4,
 "nbformat_minor": 2
}
